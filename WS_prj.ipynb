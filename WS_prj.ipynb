{
  "nbformat": 4,
  "nbformat_minor": 0,
  "metadata": {
    "colab": {
      "provenance": [],
      "authorship_tag": "ABX9TyP0poseNwSAt5vTmOS/lg9l",
      "include_colab_link": true
    },
    "kernelspec": {
      "name": "python3",
      "display_name": "Python 3"
    },
    "language_info": {
      "name": "python"
    }
  },
  "cells": [
    {
      "cell_type": "markdown",
      "metadata": {
        "id": "view-in-github",
        "colab_type": "text"
      },
      "source": [
        "<a href=\"https://colab.research.google.com/github/SivakamiKrish/Python_prj/blob/main/WS_prj.ipynb\" target=\"_parent\"><img src=\"https://colab.research.google.com/assets/colab-badge.svg\" alt=\"Open In Colab\"/></a>"
      ]
    },
    {
      "cell_type": "code",
      "execution_count": 2,
      "metadata": {
        "colab": {
          "base_uri": "https://localhost:8080/"
        },
        "id": "Za49y-iVVvAe",
        "outputId": "4b8894f1-8d18-4ddc-be11-bdd97ed917e5"
      },
      "outputs": [
        {
          "output_type": "stream",
          "name": "stdout",
          "text": [
            "Review 1 - Sentiment Analysis:\n",
            "Review Text:\n",
            "Man.... I wish I loved this movie more than I did. Don't get me wrong, it's a solid action movie with jaw-dropping stunts (some of the best in the series), but as a Mission: Impossible movie, it felt like a small step backward for the franchise. Fallout had mind-blowing action sequences and stunt work, along with developing Ethan's relationship with Ilsa, providing closure with Julia, showing the lengths Ethan would go to protect those closest to him, and battling an imposing villain. Dead Reckoning: Part One stretches the movie across two films only to seemingly showcase action spectacle after action spectacle while sacrificing character development. Characters I have grown to love over a decade of films felt sidelined, ignored, or wasted. Hayley Atwell's new character chewed up most of the screen time, and while she was fantastic, I wanted to see more of the original team. The new villain had an inconsistent ability that confused more than intimidated. There were some important emotional moments that I just didn't feel the weight of when I definitely should have. Part Two might tie everything together and make me enjoy Part One more in retrospect, but unfortunately, I left wanting more from this one.\n",
            "Sentiment Analysis:\n",
            "Polarity: 0.17436868686868684\n",
            "Subjectivity: 0.4936363636363636\n",
            "Review Category: Positive\n",
            "\n",
            "\n",
            "Review 2 - Sentiment Analysis:\n",
            "Review Text:\n",
            "Ethan Hunt has left the mere secret agent status and has ascended to the all living perfect messiah.There is so much wrong with this movie, which seriously pains me because I seriously love this series. The mission impossible movies have steadily become more convoluted and more stupidly written. This film reaches the peak of absurdity, feeling more like an over the top fast and furious movie. All foolish action, cheap parlor tricks to pull the heart strings (empty relationships), horrible writing, poor plot development.I mean seriously what ever happened to show don't tell?! This is becoming rather ridiculous.*convoluted villain dialogue*\n",
            "\"So what you're telling me is you plan to establish a new world order if you get that key and if someone stops you that would be bad?!\"Has Ethan Hunt suddenly become this vanilla James Bond? With the Bond girl cycling through every few films? Lazy writing. Not natural feeling. Forced. BlighIt pains me to give this so low.The truth is, this movie is mindless entertaining action. Tom Cruise delivers on some awesome stunts (seldom compared to other MI films). It's not horrible. It's fun entertainment, but a scour on the (in my opinion) reputable authentic feeling mission impossible series.\n",
            "Sentiment Analysis:\n",
            "Polarity: 0.006273096821877305\n",
            "Subjectivity: 0.6272450110864745\n",
            "Review Category: Positive\n",
            "\n",
            "\n",
            "Review 3 - Sentiment Analysis:\n",
            "Review Text:\n",
            "Just saw this one in a theatre, and boy... what an adrenaline rush it is. The latest Mission Impossible features some of the most incredible stunts ever put to camera. The story is absolutely exhilarating and continues to bring new life to a veteran movie franchise. The sheer scale of this movie is epic, and with every twist and turn of the movie, you cannot help but marvel at the incredible sets used to bring this movie to life. Such a movie begs to be seen on the biggest screen possible where you can truly feel the grandeur of the film. Tom Cruise has once again delivered one of the best movies of the year, and I cannot recommend that you see it enough!\n",
            "Sentiment Analysis:\n",
            "Polarity: 0.2906926406926407\n",
            "Subjectivity: 0.6431818181818183\n",
            "Review Category: Positive\n",
            "\n",
            "\n",
            "Review 4 - Sentiment Analysis:\n",
            "Review Text:\n",
            "Mission: Impossible - Dead Reckoning Part One confirms that Mission Impossible is the best franchise currently going and possibly ever made. A 2 hour 43 minute adrenaline rush that contains some of the best action sequences put to film, embarrasses the majority of the competition out there and sets the stage for a magnificent part 2 whilst still being a satisfying adventure in its own right.This is possibly the most open and obvious a Mission film has been with its deeper meaning for cinema and what aspect of Cruise's career is being dissected this time with a film that focuses on Ethan's relationship with women and basically outright declares AI to be a soulless monster and how the human element is always needed (perfect film to release during a writer's strike).Tom Cruise is perfect as Ethan Hunt and the strongest aspect this time round is when the film explores what made Ethan who he is and reminds you he genuinely cares about his team but that comes at a cost. Physically, the madman is still going strong with his stunts, driving a bike off a cliff in truly breathtaking fashion.Ving Rhames, Simon Pegg and Rebecca Ferguson remain the best IMF team and all play to their strengths here. The longer this series goes on the more authentic their growing friendship feels. Shea Whigham and Greg Tarzan Davis get more than expected and their buddy cop antics are a lot of fun.With Esai Morales' charismatic yet terrifying Gabriel and Pom Klementieff's terrific henchman of few words, this franchise finally has more good villains than bad. The return of Henry Czerny as Kittridge is glorious and he remains as gleefully despicable as his first appearance.The best new addition is easily Hayley Atwell. She plays a type of character never seen before in these films which makes her character and dynamic with Cruise fresh in comparison to everyone who's come before and their chemistry is magnetic. Instantaneous from the second they interact.Christopher McQuarrie's direction is phenomenal. The action sequences are suitably practical (this is how you spend $290 million), and the camera gets as close to the action as humanly possible, he remains one of the best in the business working at this scale. There's plenty of canted angles as a nice homage to De Palma's original and it helps give this one its own style in comparison to McQuarrie's previous entries.The pacing is really impressive with the film feeling like it's in a perpetual third act from its first airport heist (which is so much fun). Lorne Balfe does the music once again and yet again it's a highlight of the film, he knows how to elevate everything so well and really hammers home the emotional beats.\n",
            "Sentiment Analysis:\n",
            "Polarity: 0.28013610683102214\n",
            "Subjectivity: 0.5734023039107786\n",
            "Review Category: Positive\n",
            "\n",
            "\n",
            "Review 5 - Sentiment Analysis:\n",
            "Review Text:\n",
            "Good God. I feel ashamed for approaching this film with a modicum of doubt that Tom would still be able to deliver. Unbelievably, this epic actually manages to top the brilliant Fallout. Tom is literally going to die if he keeps doing these stunts. The motorbike sequence is utterly ludicrous. Intriguing plot with actual stakes and some familiar faces ably supported by brilliant new allies and villains. Sets up Part II perfectly with a sensational finale that homages Back to the Future 3, MI:1 and Speed. It is funny, action packed, polished and exhilarating. Harrison was great last week, but Tom is still the King. 9/10.\n",
            "Sentiment Analysis:\n",
            "Polarity: 0.3407512626262627\n",
            "Subjectivity: 0.5380366161616161\n",
            "Review Category: Positive\n",
            "\n",
            "\n",
            "Review 6 - Sentiment Analysis:\n",
            "Review Text:\n",
            "4 considerations for those with high expectations and who want to avoid severe disappointment:1 THE NEW ACTORS LACK CHARISMAI NEED a vicious bad guy, to really pull me into the thrill of the moviie, but none of that! There isnt even one bad guy in particular, because there are now numerous supposedly \"bad\" guys / girls and they all FAIL to impress me.Haley Atwell is not my cup of tea either. She unfortunately does get a lot of screentime.2 IT LASTS TOO LONGThere is WAY too much superfluous (explanatory) talk that really slows down this movie. It lasts WAY too long because of it ( 2hours and 43 minutes). Half an hour could have been easily cut out of it!I started looking at my watch, halfway through...and I got BORED. There I said it. I say it again, I got blipping bored. That's the last thing I want to experience during an action movie!3 THE STUNTS DONT LOOK REALThere is such a heavy layer of ADDED CGI effects, that the REAL stunts actually stop looking real at all. The real stunts look WAY more impressive in the behind the scenes footage, than they do in the actual movie.4 THE JOKES FALL FLATSimon Pegg looks like a really old man now and he somehow has lost his usual wit and charm, which were a delight in the earlier MI movies. Without a witty Simon Pegg, GONE are the jokes as well. I didnt laugh out loud once. I smirked a few times...This MI movie is definitely one of the worst editions, if not the very worst, because it BORED the heck out of me. THAT has never happened to me before watching a MI movie!Despite this disappointing conclusion I still wanna thank you for reading my 2001 th review on Imdb.\n",
            "Sentiment Analysis:\n",
            "Polarity: -0.11339206013624611\n",
            "Subjectivity: 0.5124054498473104\n",
            "Review Category: Negative\n",
            "\n",
            "\n",
            "Review 7 - Sentiment Analysis:\n",
            "Review Text:\n",
            "This latest Mission: Impossible movie is a slam dunk that needs to be seen on the biggest screen possible. Tom Cruise certainly knows how to make a movie. In another universe Cruse could have been Iron Man and I always felt that his aggression with the Mission: Impossible franchise was his way of making up for that. That's probably why the dialog in this movie felt like Ethan Hawk was captain America or something and they are going up against a Bonafede supervillain in the form of an A. I system. As far as I'm concern the best villain of the franchise snice the late and great Phillip Seymour Huffman.The Avengers Assemble as franchise regulars Simon Pegg as Dunn and Ving Rhimes, who I say with glee, started this franchise with Cruse as Luther, make their return as IMF agents. Rebecca Ferguson reprises her role from the last movie and Haley Atwell is in the movie as well, but none of this makes me as happy as Ving still being in the franchise.The action sequences are so good in this picture. It was worth having to stay in me seat for almost three hours just so they can add a little more action in-between the Hero's journey dialogue.And this is just part one!? Part two has some big shoes to fill!\n",
            "Sentiment Analysis:\n",
            "Polarity: 0.1843584656084656\n",
            "Subjectivity: 0.5660052910052908\n",
            "Review Category: Positive\n",
            "\n",
            "\n",
            "Review 8 - Sentiment Analysis:\n",
            "Review Text:\n",
            "Basically, this movie is big, loud, and stupid.Definitely TOO loud, in fact. The music attempts to turn even the most minor scene into some sort of heart-pounding climax.There are endless ridiculous fights in which Tom Cruise is predictably unstoppable, no matter how many opponents he's up against. Slim girls get to beat up multiple men. (Emily Blunt was right when, commenting on a fight in \"Sicario\" in which, refreshingly, she loses to a bigger guy, she noted that Hollywood fight scenes in which 110-pound women whip larger males are \"so cheesy.\")The dull, tepid, way-too-pretty villain is, implausibly, a formidable fighter but sure doesn't look like one. An action movie is only as good as its villain is evil; this guy looks like a French fashion mogul.He and Cruise fight on top of -- wait for it -- a moving train! Haven't we seen that ridiculous sort of thing a hundred times before?The tediously overcomplicated plot makes it hard to keep track of who's on which side, nor do we care. Apparently, as is usual these days, we're supposed to root against the U. S. government.In all scenes involving conversations, virtually EVERY line is merely plot exposition in which characters tell us, in stilted dialogue, what's going on, what's supposed to happen, and how we're supposed to feel.The much-touted parachute jump is actually disappointing. It's over quite fast, and its main source of interest is that, if you've seen the promotional video, you know that Cruise himself actually made that jump.The only truly enjoyable sequence -- the cleverly worked-out rescue attempts on the falling train -- comes at the end, after nearly two and a half hours of empty cartoonish nonsense...Including, of course, an overlong cartoonish car chase, obligatory in dumb summer movies.\n",
            "Sentiment Analysis:\n",
            "Polarity: -0.021815476190476205\n",
            "Subjectivity: 0.5599900793650793\n",
            "Review Category: Negative\n",
            "\n",
            "\n",
            "Review 9 - Sentiment Analysis:\n",
            "Review Text:\n",
            "Mission Impossible is one of those rare franchises that has been getting better and better with each installment. Until now.The plot can be summed up in a few words -- Ethan Hunt must find a special key to save humanity from an AI entity -- and yet the writers make matters so unnecessarily convoluted that the film winds up at an incredible 2 hours and 43 minutes long, a large percentage of which is far from white-knuckle action. This leads to some serious pacing issues.One of the film's key set-pieces -- a car chase in which Ethan and the newest IMF member Grace (Hayley Atwell) careen about in a yellow Fiat 500 -- is played for laughs, which is at odds with the general tone of the franchise. Roger Moore was just about able to make this kind of nonsense work in For Your Eyes Only (his silly yellow car being a 2CV), but in Dead Reckoning, it's just embarrassing.The deactivation of a bomb by Benji (Simon Pegg) is a pointless piece of padding: he must solve several well-known riddles in order to do so, with seconds to spare at the end. The final piece of the puzzle could easily be solved by simply rotating the last dial through all the remaining options, but that doesn't occur to brainiac Benji. This entire scene could have been cut from the film without detriment.Cruise's much-touted motorcycle jump off a cliff sees Ethan riding his bike at high speed over rough, rocky terrain towards the precipice. I'm no expert, but wouldn't hitting extremely uneven ground at that speed cause him to crash? (in reality, Cruise pelted along a specially constructed, very smooth ramp, the rocky ground added digitally in post).In one of the most ridiculous scenes, Hunt rescues Grace by parachuting through the side of a moving train (this carriage built from balsa wood?), right into a gun toting henchman -- what are the chances?. Equally unlikely is how bad guy Gabriel (Esai Morales) departs from the speeding locomotive: by falling backwards off the train onto a crash mat in a waiting truck, a feat that, realistically, would have less chance of success than me asking Hayley Atwell for a date.And as a graphic designer, I hated the fact that when Grace's various crimes flash up on a laptop screen, each misdemeanour is in a different font and point size. Why would that be a thing? A bored programmer with an interest in typography?Preventing the film from being a total disaster are a great turn by Pom Klementieff as blonde henchwoman Paris, the actress stealing every scene she is in despite having next to no dialogue, and an incredible finale in which Ethan and Grace must race through several of the train's carriages that are dangling over the edge of a bridge, director Christopher McQuarrie reminding us a little too late that he can put together an effective action scene.\n",
            "Sentiment Analysis:\n",
            "Polarity: 0.0446572249589491\n",
            "Subjectivity: 0.5324014778325123\n",
            "Review Category: Positive\n",
            "\n",
            "\n",
            "Review 10 - Sentiment Analysis:\n",
            "Review Text:\n",
            "The cold opening is tense, gripping in some ways and interesting in others. After the credits roll, Tom Cruise is still top-notch as Ethan Hunt and that signature run still excites. Something's off with his core team. They're barely on screen, especially Ving Rhames' Luther who disappears in the final act. The landscape is beautiful and the movie utilizes the elements in its action scenes, mainly in the desert scenes. The premise of a sentient digital world-controlling \"entity\" is intriguing. We're off to good start and then we meet Grace. I like Hayley Atwell. I don't like Hayley Atwell as Grace. Grace, the pretty pickpocket, is the key to everything. Ethan saves her, she betrays him, and leaves him for dead (or capture) and this cycle repeats throughout the movie, making the plot predictable and boring, and their chase scenes felt like a bad romantic and slapstick comedy. No matter how much Ethan saves her life or risks his for hers, she's never loyal to him. Nothing binds her to him. Yet, before Ethan does a death-defying stunt off a mountain to land on a train, he reflects on the great loves he lost or could lose and he sees IIsa's (Rebecca Ferguson) face and a love he lost early in his IMF career...and Grace. Grace? Why?! She's a great love of his life?? Again, why? Grace also caused IIsa's death, which is glossed over and passed off as IIsa sacrificing her life for Grace. I found that disingenuous as a fan. I love Rebecca Ferguson's IIsa character and she fit within the MI franchise. Grace is forced and forgettable. I think MI wanted Grace to be some mysterious, intriguing, unforgettable beauty like Halle Berry' Jinx or an Irene Adler and Hayley Atwell could not stick the landing. She did nail Tom Cruise. They were dating during filming. I guess it pays to date The Boss. Others things that failed Dead Reckoning for me was the villain Gabriel and his henchman Paris. Both were too generic to be memorable or any significant impact. The final never-ending train derailment almost made me exit the theater. MI 2 was my least favorite in the franchise until now. I'll catch MI: Dead Reckoning Part 2 at home on Paramount-plus when it streams at no cost.\n",
            "Sentiment Analysis:\n",
            "Polarity: 0.12537878787878787\n",
            "Subjectivity: 0.6160984848484847\n",
            "Review Category: Positive\n",
            "\n",
            "\n"
          ]
        }
      ],
      "source": [
        "import requests\n",
        "from bs4 import BeautifulSoup\n",
        "from textblob import TextBlob\n",
        "\n",
        "# Define the IMDb URL for a movie's reviews\n",
        "url = \"https://www.imdb.com/title/tt9603212/reviews\"\n",
        "reviews_count = 10  # The number of reviews you want to retrieve\n",
        "\n",
        "# Define a threshold for classifying reviews as positive or negative\n",
        "threshold_polarity = 0.0\n",
        "\n",
        "# Send an HTTP request to the URL\n",
        "response = requests.get(url)\n",
        "\n",
        "# Check if the request was successful\n",
        "if response.status_code == 200:\n",
        "    soup = BeautifulSoup(response.text, 'html.parser')\n",
        "\n",
        "    # Find all movie reviews on the page\n",
        "    reviews = soup.find_all('div', class_='text show-more__control')\n",
        "\n",
        "    if reviews:\n",
        "        for i, review in enumerate(reviews[:reviews_count]):\n",
        "            review_text = review.get_text()\n",
        "\n",
        "            # Perform sentiment analysis using TextBlob\n",
        "            sentiment = TextBlob(review_text)\n",
        "            sentiment_polarity = sentiment.sentiment.polarity\n",
        "            sentiment_subjectivity = sentiment.sentiment.subjectivity\n",
        "\n",
        "            # Classify the review as positive or negative\n",
        "            sentiment_category = \"Positive\" if sentiment_polarity > threshold_polarity else \"Negative\"\n",
        "\n",
        "            # Print review and sentiment analysis results for each review\n",
        "            print(f\"Review {i + 1} - Sentiment Analysis:\")\n",
        "            print(\"Review Text:\")\n",
        "            print(review_text)\n",
        "            print(\"Sentiment Analysis:\")\n",
        "            print(f\"Polarity: {sentiment_polarity}\")\n",
        "            print(f\"Subjectivity: {sentiment_subjectivity}\")\n",
        "            print(f\"Review Category: {sentiment_category}\")\n",
        "            print(\"\\n\")\n",
        "    else:\n",
        "        print(\"No reviews found on the page.\")\n",
        "else:\n",
        "    print(f\"Failed to retrieve data. Status code: {response.status_code}\")\n"
      ]
    },
    {
      "cell_type": "code",
      "source": [
        "pip install matplotlib pandas\n"
      ],
      "metadata": {
        "colab": {
          "base_uri": "https://localhost:8080/"
        },
        "id": "utm19w5FXD1c",
        "outputId": "f2c003ae-ed0b-45b8-ac8d-28f8bf1079fb"
      },
      "execution_count": 3,
      "outputs": [
        {
          "output_type": "stream",
          "name": "stdout",
          "text": [
            "Requirement already satisfied: matplotlib in /usr/local/lib/python3.10/dist-packages (3.7.1)\n",
            "Requirement already satisfied: pandas in /usr/local/lib/python3.10/dist-packages (1.5.3)\n",
            "Requirement already satisfied: contourpy>=1.0.1 in /usr/local/lib/python3.10/dist-packages (from matplotlib) (1.1.1)\n",
            "Requirement already satisfied: cycler>=0.10 in /usr/local/lib/python3.10/dist-packages (from matplotlib) (0.12.1)\n",
            "Requirement already satisfied: fonttools>=4.22.0 in /usr/local/lib/python3.10/dist-packages (from matplotlib) (4.43.1)\n",
            "Requirement already satisfied: kiwisolver>=1.0.1 in /usr/local/lib/python3.10/dist-packages (from matplotlib) (1.4.5)\n",
            "Requirement already satisfied: numpy>=1.20 in /usr/local/lib/python3.10/dist-packages (from matplotlib) (1.23.5)\n",
            "Requirement already satisfied: packaging>=20.0 in /usr/local/lib/python3.10/dist-packages (from matplotlib) (23.2)\n",
            "Requirement already satisfied: pillow>=6.2.0 in /usr/local/lib/python3.10/dist-packages (from matplotlib) (9.4.0)\n",
            "Requirement already satisfied: pyparsing>=2.3.1 in /usr/local/lib/python3.10/dist-packages (from matplotlib) (3.1.1)\n",
            "Requirement already satisfied: python-dateutil>=2.7 in /usr/local/lib/python3.10/dist-packages (from matplotlib) (2.8.2)\n",
            "Requirement already satisfied: pytz>=2020.1 in /usr/local/lib/python3.10/dist-packages (from pandas) (2023.3.post1)\n",
            "Requirement already satisfied: six>=1.5 in /usr/local/lib/python3.10/dist-packages (from python-dateutil>=2.7->matplotlib) (1.16.0)\n"
          ]
        }
      ]
    },
    {
      "cell_type": "code",
      "source": [
        "import matplotlib.pyplot as plt\n",
        "import pandas as pd\n",
        "\n",
        "# Create a DataFrame with the sentiment data\n",
        "data = {\n",
        "    'Review Category': ['Positive', 'Negative'],\n",
        "    'Count': [6, 4]\n",
        "}\n",
        "\n",
        "df = pd.DataFrame(data)\n",
        "\n",
        "# Create a bar chart for sentiment distribution\n",
        "plt.figure(figsize=(4, 2))\n",
        "plt.bar(df['Review Category'], df['Count'], color=['pink', 'maroon'])\n",
        "plt.xlabel('Sentiment Category')\n",
        "plt.ylabel('Count')\n",
        "plt.title('Sentiment Analysis of Reviews')\n",
        "plt.show()\n",
        "\n",
        "\n",
        "\n",
        "\n",
        "\n"
      ],
      "metadata": {
        "colab": {
          "base_uri": "https://localhost:8080/",
          "height": 564
        },
        "id": "igjEuD-2XlUl",
        "outputId": "ca3c35b5-817c-422a-94b3-7148c4001ccd"
      },
      "execution_count": 7,
      "outputs": [
        {
          "output_type": "display_data",
          "data": {
            "text/plain": [
              "<Figure size 800x600 with 1 Axes>"
            ],
            "image/png": "[encoded data removed]"
          },
          "metadata": {}
        }
      ]
    }
  ]
}